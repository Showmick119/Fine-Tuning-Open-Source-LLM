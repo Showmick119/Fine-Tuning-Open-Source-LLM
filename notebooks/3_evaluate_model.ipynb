{
  "cells": [
    {
      "cell_type": "markdown",
      "metadata": {
        "vscode": {
          "languageId": "raw"
        }
      },
      "source": [
        "[![Open In Colab](https://colab.research.google.com/assets/colab-badge.svg)](https://colab.research.google.com/github/your-username/llm-finetuning-lora/blob/main/notebooks/3_evaluate_model.ipynb)\n",
        "\n",
        "# 📊 Evaluating Fine-tuned CodeLlama on HumanEval\n",
        "\n",
        "This notebook benchmarks your fine-tuned **CodeLlama-7b-Instruct** model on the **HumanEval** dataset, which is the gold standard for evaluating code generation capabilities.\n",
        "\n",
        "## 🎯 What is HumanEval?\n",
        "\n",
        "HumanEval is a benchmark consisting of 164 handwritten programming problems that evaluate the functional correctness of code synthesis. It measures:\n",
        "\n",
        "- **Pass@1**: Percentage of problems solved correctly in one attempt\n",
        "- **Pass@5**: Percentage of problems solved correctly in 5 attempts\n",
        "- Code completion accuracy\n",
        "- Algorithm implementation skills\n",
        "\n",
        "## 🔧 Setup\n",
        "\n",
        "First, let's install the required packages for evaluation.\n"
      ]
    },
    {
      "cell_type": "code",
      "execution_count": null,
      "metadata": {},
      "outputs": [],
      "source": [
        "%pip install -q torch transformers peft bitsandbytes accelerate datasets evaluate\n"
      ]
    },
    {
      "cell_type": "markdown",
      "metadata": {
        "vscode": {
          "languageId": "raw"
        }
      },
      "source": [
        "### 📦 Import Dependencies\n",
        "\n",
        "Let's import our evaluation module and other required libraries.\n"
      ]
    },
    {
      "cell_type": "code",
      "execution_count": null,
      "metadata": {},
      "outputs": [],
      "source": [
        "import sys\n",
        "sys.path.append('.')\n",
        "\n",
        "from evaluate.evaluate_model import ModelEvaluator\n",
        "import torch\n",
        "import json\n",
        "from datetime import datetime\n",
        "\n",
        "# Check GPU availability\n",
        "print(f\"🚀 CUDA Available: {torch.cuda.is_available()}\")\n",
        "if torch.cuda.is_available():\n",
        "    print(f\"🎮 GPU: {torch.cuda.get_device_name(0)}\")\n",
        "    print(f\"💾 GPU Memory: {torch.cuda.get_device_properties(0).total_memory / 1e9:.2f} GB\")\n"
      ]
    },
    {
      "cell_type": "markdown",
      "metadata": {
        "vscode": {
          "languageId": "raw"
        }
      },
      "source": [
        "## 🤖 Initialize Model Evaluator\n",
        "\n",
        "Now let's initialize our model evaluator with the fine-tuned CodeLlama model. This will load both the base model and your trained LoRA adapter.\n"
      ]
    },
    {
      "cell_type": "code",
      "execution_count": null,
      "metadata": {},
      "outputs": [],
      "source": [
        "# 🚀 Initialize the model evaluator\n",
        "print(\"🤖 Initializing model evaluator...\")\n",
        "\n",
        "evaluator = ModelEvaluator(\n",
        "    base_model_name=\"codellama/CodeLlama-7b-Instruct-hf\",\n",
        "    adapter_path=\"outputs/checkpoints\",  # Path to your fine-tuned LoRA adapter\n",
        "    device=\"auto\",\n",
        "    load_8bit=True,  # Use 8-bit for evaluation efficiency\n",
        "    output_dir=\"outputs/evaluation\"\n",
        ")\n",
        "\n",
        "print(\"✅ Model evaluator initialized successfully!\")\n"
      ]
    },
    {
      "cell_type": "markdown",
      "metadata": {
        "vscode": {
          "languageId": "raw"
        }
      },
      "source": [
        "## 🧪 Quick Test Generation\n",
        "\n",
        "Before running the full evaluation, let's test the model on a simple HumanEval-style problem to ensure everything is working correctly.\n"
      ]
    },
    {
      "cell_type": "code",
      "execution_count": null,
      "metadata": {},
      "outputs": [],
      "source": [
        "# 🧪 Test with a sample HumanEval-style problem\n",
        "test_prompt = \"\"\"def has_close_elements(numbers: List[float], threshold: float) -> bool:\n",
        "    \\\"\\\"\\\" Check if in given list of numbers, are any two numbers closer to each other than\n",
        "    given threshold.\n",
        "    >>> has_close_elements([1.0, 2.0, 3.0], 0.5)\n",
        "    False\n",
        "    >>> has_close_elements([1.0, 2.8, 3.0, 4.0, 5.0, 2.0], 0.3)\n",
        "    True\n",
        "    \\\"\\\"\\\"\n",
        "\"\"\"\n",
        "\n",
        "print(\"🧪 Testing with sample problem:\")\n",
        "print(\"=\" * 50)\n",
        "print(test_prompt)\n",
        "print(\"=\" * 50)\n",
        "\n",
        "# Generate solution\n",
        "test_solution = evaluator.generate_code(\n",
        "    prompt=test_prompt,\n",
        "    max_new_tokens=200,\n",
        "    temperature=0.1\n",
        ")\n",
        "\n",
        "print(\"\\n🎯 Generated Solution:\")\n",
        "print(\"=\" * 50)\n",
        "print(test_solution)\n",
        "print(\"=\" * 50)\n"
      ]
    },
    {
      "cell_type": "markdown",
      "metadata": {
        "vscode": {
          "languageId": "raw"
        }
      },
      "source": [
        "## 📊 Run Full HumanEval Evaluation\n",
        "\n",
        "Now let's run the complete HumanEval evaluation. This will test your model on all 164 problems and calculate the Pass@1 score.\n",
        "\n",
        "⚠️ **Note**: This will take 15-30 minutes depending on your GPU. The evaluation runs each problem sequentially to ensure accurate results.\n"
      ]
    },
    {
      "cell_type": "code",
      "execution_count": null,
      "metadata": {},
      "outputs": [],
      "source": [
        "# 📊 Run the full HumanEval evaluation\n",
        "print(\"📊 Starting HumanEval evaluation...\")\n",
        "print(\"⏳ This will take 15-30 minutes. Please be patient!\")\n",
        "\n",
        "start_time = datetime.now()\n",
        "\n",
        "# Run evaluation with different temperature settings\n",
        "evaluation_configs = [\n",
        "    {\"temperature\": 0.1, \"name\": \"Conservative (T=0.1)\"},\n",
        "    {\"temperature\": 0.2, \"name\": \"Balanced (T=0.2)\"},\n",
        "]\n",
        "\n",
        "all_results = []\n",
        "\n",
        "for config in evaluation_configs:\n",
        "    print(f\"\\n🔥 Running evaluation with {config['name']}\")\n",
        "    \n",
        "    results = evaluator.evaluate_humaneval(\n",
        "        temperature=config[\"temperature\"],\n",
        "        max_new_tokens=256\n",
        "    )\n",
        "    \n",
        "    results[\"config_name\"] = config[\"name\"] \n",
        "    all_results.append(results)\n",
        "    \n",
        "    # Print intermediate results\n",
        "    evaluator.print_evaluation_summary(results)\n",
        "\n",
        "end_time = datetime.now()\n",
        "print(f\"\\n⏰ Total evaluation time: {end_time - start_time}\")\n"
      ]
    },
    {
      "cell_type": "markdown",
      "metadata": {
        "vscode": {
          "languageId": "raw"
        }
      },
      "source": [
        "## 📈 Results Analysis\n",
        "\n",
        "Let's analyze the results and compare different configuration settings.\n"
      ]
    },
    {
      "cell_type": "code",
      "execution_count": null,
      "metadata": {},
      "outputs": [],
      "source": [
        "# 📈 Compare results across different configurations\n",
        "print(\"📈 COMPARATIVE RESULTS ANALYSIS\")\n",
        "print(\"=\" * 70)\n",
        "\n",
        "for i, results in enumerate(all_results):\n",
        "    print(f\"\\n{i+1}. {results['config_name']}\")\n",
        "    print(f\"   Pass@1 Score: {results['pass_at_1']:.3f} ({results['pass_at_1']*100:.1f}%)\")\n",
        "    print(f\"   Solved: {results['correct_solutions']}/{results['total_problems']}\")\n",
        "\n",
        "# Find best configuration\n",
        "best_result = max(all_results, key=lambda x: x['pass_at_1'])\n",
        "print(f\"\\n🏆 Best Configuration: {best_result['config_name']}\")\n",
        "print(f\"🎯 Best Pass@1 Score: {best_result['pass_at_1']:.3f}\")\n",
        "\n",
        "# Show some example successful solutions\n",
        "print(f\"\\n📝 Example Successful Solutions:\")\n",
        "print(\"=\" * 50)\n",
        "\n",
        "successful_examples = [\n",
        "    example for example in best_result['detailed_results'] \n",
        "    if example['is_correct']\n",
        "][:3]  # Show first 3 successful solutions\n",
        "\n",
        "for i, example in enumerate(successful_examples, 1):\n",
        "    print(f\"\\n✅ Example {i}: {example['task_id']}\")\n",
        "    print(f\"Generated Code:\")\n",
        "    print(example['generated_code'][:200] + \"...\" if len(example['generated_code']) > 200 else example['generated_code'])\n",
        "    print(\"-\" * 30)\n"
      ]
    },
    {
      "cell_type": "markdown",
      "metadata": {
        "vscode": {
          "languageId": "raw"
        }
      },
      "source": [
        "## 💾 Save Results\n",
        "\n",
        "The evaluation results are automatically saved, but let's also create a summary report.\n"
      ]
    },
    {
      "cell_type": "code",
      "execution_count": null,
      "metadata": {},
      "outputs": [],
      "source": [
        "# 💾 Create and save summary report\n",
        "summary_report = {\n",
        "    \"evaluation_date\": datetime.now().isoformat(),\n",
        "    \"model_info\": {\n",
        "        \"base_model\": \"codellama/CodeLlama-7b-Instruct-hf\",\n",
        "        \"adapter_path\": \"outputs/checkpoints\",\n",
        "        \"fine_tuning_dataset\": \"CodeAlpaca-20k\"\n",
        "    },\n",
        "    \"evaluation_summary\": {\n",
        "        \"total_problems\": 164,\n",
        "        \"configurations_tested\": len(all_results),\n",
        "        \"best_pass_at_1\": best_result['pass_at_1'],\n",
        "        \"best_configuration\": best_result['config_name']\n",
        "    },\n",
        "    \"detailed_results\": all_results\n",
        "}\n",
        "\n",
        "# Save summary report\n",
        "summary_file = f\"outputs/evaluation/summary_report_{datetime.now().strftime('%Y%m%d_%H%M%S')}.json\"\n",
        "with open(summary_file, 'w') as f:\n",
        "    json.dump(summary_report, f, indent=2)\n",
        "\n",
        "print(f\"📋 Summary report saved to: {summary_file}\")\n",
        "\n",
        "# Print final summary\n",
        "print(\"\\n🎯 FINAL EVALUATION SUMMARY\")\n",
        "print(\"=\" * 50)\n",
        "print(f\"📅 Date: {datetime.now().strftime('%Y-%m-%d %H:%M:%S')}\")\n",
        "print(f\"🤖 Model: CodeLlama-7b-Instruct (Fine-tuned)\")\n",
        "print(f\"📊 Dataset: CodeAlpaca-20k\")\n",
        "print(f\"🏆 Best Pass@1: {best_result['pass_at_1']:.3f} ({best_result['pass_at_1']*100:.1f}%)\")\n",
        "print(f\"✅ Problems Solved: {best_result['correct_solutions']}/164\")\n",
        "print(\"=\" * 50)\n",
        "\n",
        "print(f\"\\n💡 Results files saved in: outputs/evaluation/\")\n",
        "print(f\"📋 Summary report: {summary_file}\")\n",
        "print(f\"📊 Detailed results: {best_result.get('results_file', 'humaneval_results_*.json')}\")\n"
      ]
    }
  ],
  "metadata": {
    "kernelspec": {
      "display_name": "Python 3",
      "language": "python",
      "name": "python3"
    },
    "language_info": {
      "codemirror_mode": {
        "name": "ipython",
        "version": 3
      },
      "file_extension": ".py",
      "mimetype": "text/x-python",
      "name": "python",
      "nbconvert_exporter": "python",
      "pygments_lexer": "ipython3",
      "version": "3.12.9"
    }
  },
  "nbformat": 4,
  "nbformat_minor": 2
}
